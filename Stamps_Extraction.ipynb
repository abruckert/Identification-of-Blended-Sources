{
 "cells": [
  {
   "cell_type": "markdown",
   "metadata": {},
   "source": [
    "### Stamps Extraction"
   ]
  },
  {
   "cell_type": "code",
   "execution_count": 1,
   "metadata": {},
   "outputs": [],
   "source": [
    "%matplotlib inline \n",
    "import numpy as np\n",
    "import matplotlib.pyplot as plt\n",
    "import pylab as pl\n",
    "from astropy.io import fits \n",
    "import copy\n",
    "import subprocess as sp\n",
    "\n",
    "PATH_TO_IMAGE = './CFIS/'\n",
    "PATH_TO_STAMPS = './CFIS/Stamps/'"
   ]
  },
  {
   "cell_type": "markdown",
   "metadata": {},
   "source": [
    "Running SExtractor on the FITS image"
   ]
  },
  {
   "cell_type": "code",
   "execution_count": null,
   "metadata": {},
   "outputs": [],
   "source": [
    "FILE_NAME = PATH_TO_IMAGE + 'CFIS-000-0.fits'\n",
    "FLAG_NAME = PATH_TO_IMAGE + 'CFIS_flag-000-0.fits'\n",
    "WEIGHT_NAME = PATH_TO_IMAGE + 'CFIS_weight-000-0.fits'\n",
    "CATALOG_NAME = PATH_TO_IMAGE + 'CFIS_cat-000-0.cat'\n",
    "\n",
    "command = 'sex ' + FILE_NAME + ' -c cfis.sex -CATALOG_NAME ' + CATALOG_NAME + ' -WEIGHT_IMAGE ' + WEIGHT_NAME + ' -FLAG_IMAGE ' + FLAG_NAME\n",
    "output = sp.Popen([command], stdout=sp.PIPE, stderr=sp.PIPE, shell=True).stderr.read()"
   ]
  },
  {
   "cell_type": "code",
   "execution_count": null,
   "metadata": {},
   "outputs": [],
   "source": [
    "def correct(cat):\n",
    "    \n",
    "    # Open SExtractor catalog:\n",
    "    cat = fits.open(cat)\n",
    "    # Get the data from the second object of the fits file we opened\n",
    "    data = cat[2].data\n",
    "    cat.info()\n",
    "    # Load the things needed into numpy arrays.\n",
    "    imaflags = np.array([obj['IMAFLAGS_ISO']for obj in data])\n",
    "    x = np.array([obj['X_IMAGE']for obj in data])\n",
    "    Y = np.array([obj['Y_IMAGE']for obj in data])\n",
    "    # To extract the objects interested\n",
    "    ind = np.where(imaflags==0)\n",
    "    data = data[ind[0]]\n",
    "    flags = np.array([obj['FLAGS'] for obj in data])\n",
    "    ind_flag = np.where(flags<=3)\n",
    "    data = data[ind_flag[0]]\n",
    "    return data\n",
    "\n",
    "# Generate new data\n",
    "data = correct(CATALOG_NAME)\n",
    "\n",
    "fits.PrimaryHDU(data).writeto('')\n",
    "\n",
    "# Features and labels after SExtractor\n",
    "labels_sex = copy.deepcopy(data['FLAGS'])\n",
    "feature_sex = copy.deepcopy(data['VIGNET'])\n",
    "features_sex = copy.deepcopy(data['VIGNET'])\n",
    "features_sex = features_sex.reshape(features_sex.shape[0],features_sex.shape[1]**2)"
   ]
  },
  {
   "cell_type": "code",
   "execution_count": null,
   "metadata": {},
   "outputs": [],
   "source": [
    "def create_vig(data,check):\n",
    "    '''Fonction to repair every object's vignet'''\n",
    "    xs = np.array([obj['X_IMAGE'] for obj in data])\n",
    "    ys = np.array([obj['Y_IMAGE'] for obj in data])\n",
    "    flags = np.array([obj['FLAGS'] for obj in data])\n",
    "    objs = np.array([obj['VIGNET'] for obj in data])\n",
    "\n",
    "    M = fits.getdata(check)\n",
    "    im = np.zeros(objs.shape)\n",
    "    #print int(ys[1])-25:int(ys[1])+25\n",
    "    for i in range(objs.shape[0]):\n",
    "        #Adapt the indexes for different image size (here, for (116,116))    \n",
    "        im[i] = M[int(ys[i])-58:int(ys[i])+58,int(xs[i])-58:int(xs[i])+58]\n",
    "    return im\n",
    "\n",
    "# Generate the full vignet for every object detected\n",
    "data['VIGNET'] = create_vig(data_train,FILE_NAME)\n",
    "# Getting sure the vignets have the right size\n",
    "imgs = data['VIGNET'].reshape(116,116)"
   ]
  },
  {
   "cell_type": "code",
   "execution_count": null,
   "metadata": {},
   "outputs": [],
   "source": [
    "def presentvig(data):\n",
    "\n",
    "    '''Quick plot to check the source extraction'''\n",
    "\n",
    "    objs = data['VIGNET']\n",
    "    # Print some vignets of the object\n",
    "    \n",
    "    for j in np.random.choice(ind[0],30):\n",
    "        plt.figure(figsize=(6, 6))  \n",
    "        pic = objs[j]\n",
    "        pic[pic<-1e29] = 0\n",
    "        plt.imshow(pic, interpolation='Nearest', cmap='viridis')\n",
    "        plt.colorbar()\n",
    "    plt.show()     \n",
    "    \n",
    "presentvig(data)\n"
   ]
  }
 ],
 "metadata": {
  "kernelspec": {
   "display_name": "Python 3",
   "language": "python",
   "name": "python3"
  },
  "language_info": {
   "codemirror_mode": {
    "name": "ipython",
    "version": 3
   },
   "file_extension": ".py",
   "mimetype": "text/x-python",
   "name": "python",
   "nbconvert_exporter": "python",
   "pygments_lexer": "ipython3",
   "version": "3.6.7"
  }
 },
 "nbformat": 4,
 "nbformat_minor": 2
}
